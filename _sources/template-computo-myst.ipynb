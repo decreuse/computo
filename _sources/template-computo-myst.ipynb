{
 "cells": [
  {
   "cell_type": "markdown",
   "id": "66193507",
   "metadata": {},
   "source": [
    "# Point process discrimination according to repulsion\n",
    "\n",
    "## Abstract\n",
    "\n",
    "In numerous applications, cloud of points do seem to exhibit {repulsion} in the intuitive sense that there is no local cluster as in a Poisson process. Motivated by data coming from cellular networks, we devise a classification algorithm based on the form of the Voronoi cells. We show that, for data  representing the locations of antennas in a cellular networks, we can retrieve some repulsion between antennas, a feature that  was expected for engineering reasons.\n",
    " \n",
    "# Introduction\n",
    "\n",
    "In the performance analysis of cellular systems, the locations of antennas (or base stations) play a major role (see {cite}`BaccelliStochasticGeometryWireless2008`). It is usually admitted that they can be modeled by a Poisson process. But the data which can be gathered from the Web site of the French National Agency of Radio Frequencies, Cartoradio, see {cite}`ANFR`, tend to prove that this may not be the case. More precisely, if we look at the global picture of all antennas in Paris, we see features reminiscent of a Poisson process (local clusters for instance), see Figure~\\ref{fig:antennas}. However, if we look closer and finer, by specifying a region and a frequency band, we see that the antennas locations do seem to exhibit some repulsion (see Figure~\\ref{fig:antennas}, right picture). \n",
    "\n",
    "**Definition**\n",
    "Es sei $U\\subset \\C$ offen und seien $\\gamma_0,\\gamma_1:[a,b]\\to U$ zwei Wege. Falls eine Zerlegung $(a=t_0,\\ldots,b=t_N)$ existiert mit Kreisscheiben $B^j$, welche zulässig für beide Wege ist, d.h.,\n",
    "\n",
    "$$\n",
    "\\gamma_0([t_j, t_{j+1}])\\cup \\gamma_1([t_j,t_{j+1}]) \\subset B^j\n",
    "$$\n",
    "\n",
    "\n",
    "\n",
    "\n",
    "```{bibliography}\n",
    ":style: unsrt\n",
    "```"
   ]
  }
 ],
 "metadata": {
  "author": "H. Adrat and L. Decreusefond",
  "jupytext": {
   "text_representation": {
    "extension": ".md",
    "format_name": "myst"
   }
  },
  "kernelspec": {
   "display_name": "Python 3",
   "language": "python",
   "name": "python3"
  },
  "language_info": {
   "codemirror_mode": {
    "name": "ipython",
    "version": 3
   },
   "file_extension": ".py",
   "mimetype": "text/x-python",
   "name": "python",
   "nbconvert_exporter": "python",
   "pygments_lexer": "ipython3",
   "version": "3.9.13"
  },
  "source_map": [
   12
  ],
  "title": "Point process discrimination according to repulsion"
 },
 "nbformat": 4,
 "nbformat_minor": 5
}